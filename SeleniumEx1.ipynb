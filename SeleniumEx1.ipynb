{
 "cells": [
  {
   "cell_type": "code",
   "execution_count": 1,
   "id": "a9fa9229",
   "metadata": {},
   "outputs": [
    {
     "name": "stdout",
     "output_type": "stream",
     "text": [
      "Requirement already satisfied: selenium in /Library/Frameworks/Python.framework/Versions/3.9/lib/python3.9/site-packages (3.141.0)\n",
      "Requirement already satisfied: urllib3 in /Library/Frameworks/Python.framework/Versions/3.9/lib/python3.9/site-packages (from selenium) (1.26.6)\n",
      "Note: you may need to restart the kernel to use updated packages.\n"
     ]
    }
   ],
   "source": [
    "pip install selenium"
   ]
  },
  {
   "cell_type": "code",
   "execution_count": 2,
   "id": "5d353485",
   "metadata": {},
   "outputs": [
    {
     "ename": "SyntaxError",
     "evalue": "invalid syntax (3835875925.py, line 2)",
     "output_type": "error",
     "traceback": [
      "\u001b[0;36m  File \u001b[0;32m\"/var/folders/l3/1gy6s41x4px127cfgdy7wcgh0000gn/T/ipykernel_4303/3835875925.py\"\u001b[0;36m, line \u001b[0;32m2\u001b[0m\n\u001b[0;31m    pip install certifi\u001b[0m\n\u001b[0m        ^\u001b[0m\n\u001b[0;31mSyntaxError\u001b[0m\u001b[0;31m:\u001b[0m invalid syntax\n"
     ]
    }
   ],
   "source": [
    "# 크롬드라이버 자동 설치시 ssl 에러 방지 1번 -> 이미설치 돼있으면 SyntaxError: invalid syntax 반환\n",
    "pip install certifi"
   ]
  },
  {
   "cell_type": "code",
   "execution_count": 3,
   "id": "d7792e8a",
   "metadata": {},
   "outputs": [],
   "source": [
    "# 크롬드라이버 자동 설치시 ssl 에러 방지 -> 1번으로 해결이 안될시\n",
    "import ssl\n",
    "ssl._create_default_https_context = ssl._create_unverified_context"
   ]
  },
  {
   "cell_type": "code",
   "execution_count": 1,
   "id": "f9c1a913",
   "metadata": {},
   "outputs": [],
   "source": [
    "from selenium import webdriver\n",
    "import chromedriver_autoinstaller\n",
    "\n",
    "chrome_ver = chromedriver_autoinstaller.get_chrome_version().split('.')[0] # 크롬드라이버 버전 확인\n",
    "\n",
    "# 드라이버 설치 \n",
    "try:\n",
    "    driver = webdriver.Chrome(f'./{chrome_ver}/chromedriver') # 해당경로에 드라이버가 있으면 불러오고 \n",
    "except:\n",
    "    chromedriver_autoinstaller.install(True)\n",
    "    driver = webdriver.Chrome(f'./{chrome_ver}/chromedriver') # 없으면 설치"
   ]
  },
  {
   "cell_type": "code",
   "execution_count": null,
   "id": "8060ca91",
   "metadata": {},
   "outputs": [],
   "source": [
    "driver.get('https://www.naver.com') # url 호출"
   ]
  },
  {
   "cell_type": "code",
   "execution_count": 4,
   "id": "9ed36231",
   "metadata": {},
   "outputs": [],
   "source": [
    "# 네이버 로그인 테스트\n",
    "naver_login = driver.find_element_by_class_name('link_login') # 요소의 클래스 이름으로 찾기 \n",
    "naver_login.click()"
   ]
  },
  {
   "cell_type": "code",
   "execution_count": 5,
   "id": "0a20cc0c",
   "metadata": {},
   "outputs": [],
   "source": [
    "# 아이디와 패스워드 같이 submit으로 전송하는 것들은 input 태그로 가져와야함.\n",
    "naver_id = driver.find_element_by_id('id') # 요소의 id 로 찾기 \n",
    "naver_id.send_keys('네이버 아이디')\n",
    "naver_pw = driver.find_element_by_name('pw') # 요소의 name 으로 찾기\n",
    "naver_pw.send_keys('네이버 패스워드')"
   ]
  },
  {
   "cell_type": "code",
   "execution_count": 6,
   "id": "60e30e11",
   "metadata": {},
   "outputs": [],
   "source": [
    "# 클릭이벤트를 실행하려면 버튼태그를 찾아야함.\n",
    "login_button = driver.find_element_by_id('log.login')\n",
    "login_button.click()"
   ]
  },
  {
   "cell_type": "code",
   "execution_count": 2,
   "id": "bef94767",
   "metadata": {},
   "outputs": [],
   "source": [
    "# 카눈 데이터 기초\n",
    "driver.get('http://www.carnoon.co.kr/newcar/estimate/10375') # 카눈 url 호출"
   ]
  },
  {
   "cell_type": "code",
   "execution_count": 3,
   "id": "3b97c198",
   "metadata": {},
   "outputs": [],
   "source": [
    "carList = driver.find_elements_by_css_selector('ul#gradeBox.gradeList>li>ul.trimList>li') # elements를 이용하여 배열로 담는다"
   ]
  },
  {
   "cell_type": "code",
   "execution_count": 4,
   "id": "fda4d74b",
   "metadata": {},
   "outputs": [
    {
     "name": "stdout",
     "output_type": "stream",
     "text": [
      "시그니처\n",
      "휘발유 12.7㎞/ℓ\n",
      "31,500,000원\n"
     ]
    }
   ],
   "source": [
    "print(carList[3].text) # 뽑으려는 옵션을 확인\n",
    "carList[3].click() # 해당옵션 클릭"
   ]
  },
  {
   "cell_type": "code",
   "execution_count": 5,
   "id": "9557e1a2",
   "metadata": {},
   "outputs": [],
   "source": [
    "divide_month = driver.find_element_by_css_selector('div.inner>ul>li.last>button') # 구입방법\n",
    "divide_month.click() # 클릭"
   ]
  },
  {
   "cell_type": "code",
   "execution_count": 6,
   "id": "cd05f199",
   "metadata": {},
   "outputs": [],
   "source": [
    "divide_month_list = driver.find_elements_by_css_selector('ul#finceBox.fince>li') # 할부 비교 리스트\n",
    "model_name = driver.find_element_by_id('estmRslt_lineupName') # 세부모델"
   ]
  },
  {
   "cell_type": "code",
   "execution_count": 7,
   "id": "7b1bccd0",
   "metadata": {},
   "outputs": [],
   "source": [
    "test = driver.find_elements_by_css_selector('ul#finceBox.fince>li>a>span') # 할부비교 리스트 안의 요소들을 다시 리스트로 저장"
   ]
  },
  {
   "cell_type": "code",
   "execution_count": 8,
   "id": "ebf49990",
   "metadata": {},
   "outputs": [
    {
     "name": "stdout",
     "output_type": "stream",
     "text": [
      "index:0,value:다이렉트 오토 카드할부\n",
      "603,329원\n",
      "1\n",
      "2.2%\n",
      "240,844원\n",
      "479,000원\n",
      "index:1,value:다이렉트 오토\n",
      "603,329원\n",
      "1\n",
      "2.2%\n",
      "240,844원\n",
      "479,000원\n",
      "index:2,value:마이카(카드할부)\n",
      "603,329원\n",
      "3\n",
      "2.2%\n",
      "419,844원\n",
      "300,000원\n",
      "index:3,value:오토론(캐시백)\n",
      "613,560원\n",
      "4\n",
      "(최저) 3.308%\n",
      "469,696원\n",
      "618,464원\n",
      "index:4,value:오토할부\n",
      "608,856원\n",
      "5\n",
      "2.8%\n",
      "818,816원\n",
      "100,000원\n",
      "index:5,value:오토플러스\n",
      "609,780원\n",
      "6\n",
      "2.9%\n",
      "852,080원\n",
      "100,000원\n",
      "index:6,value:이지오토할부\n",
      "609,780원\n",
      "6\n",
      "2.9%\n",
      "852,080원\n",
      "100,000원\n",
      "index:7,value:신한마이카대출\n",
      "619,630원\n",
      "8\n",
      "(평균) 3.96%\n",
      "1,306,680원\n",
      "-      \n",
      "index:8,value:매직카대출\n",
      "620,471원\n",
      "9\n",
      "(최저) 4.05%\n",
      "1,336,956원\n",
      "-      \n"
     ]
    }
   ],
   "source": [
    "for i,v in enumerate(divide_month_list): # 튜플 형태변환\n",
    "    print(\"index:{},value:{}\".format(i,v.text))"
   ]
  },
  {
   "cell_type": "code",
   "execution_count": 9,
   "id": "bc2295d2",
   "metadata": {},
   "outputs": [
    {
     "name": "stdout",
     "output_type": "stream",
     "text": [
      "모델: 2022년형 가솔린 2.0 (개소세 5% 기준 ↘ 30% 인하) \n",
      "베스트1: 다이렉트 오토 카드할부 \n",
      "월 납입금: 603,329원\n"
     ]
    }
   ],
   "source": [
    "print('모델:',model_name.text,'\\n베스트1:',test[1].text,'\\n월 납입금:',test[2].text)"
   ]
  },
  {
   "cell_type": "code",
   "execution_count": 8,
   "id": "122d8103",
   "metadata": {},
   "outputs": [
    {
     "name": "stdout",
     "output_type": "stream",
     "text": [
      "24개월\n"
     ]
    }
   ],
   "source": [
    "selectBox = driver.find_elements_by_css_selector('select#finceMonSel>option')\n",
    "print(selectBox[4].text)\n",
    "selectBox[4].click()"
   ]
  },
  {
   "cell_type": "code",
   "execution_count": 9,
   "id": "f82b9274",
   "metadata": {},
   "outputs": [
    {
     "name": "stdout",
     "output_type": "stream",
     "text": [
      "전액할부\n"
     ]
    }
   ],
   "source": [
    "principal = driver.find_elements_by_css_selector('select#finceCapSel>option')\n",
    "print(principal[0].text)\n",
    "principal[0].click()"
   ]
  },
  {
   "cell_type": "code",
   "execution_count": 12,
   "id": "f0185fac",
   "metadata": {},
   "outputs": [],
   "source": [
    "test1 = driver.find_elements_by_css_selector('ul#finceBox.fince>li>a>span') # 기존것을 그대로 쓰면 StaleElementReferenceException 에러 발생하여 재정의"
   ]
  },
  {
   "cell_type": "code",
   "execution_count": 15,
   "id": "0347b73b",
   "metadata": {},
   "outputs": [
    {
     "name": "stdout",
     "output_type": "stream",
     "text": [
      "모델: 2022년형 가솔린 2.0 (개소세 5% 기준 ↘ 30% 인하)\n",
      "베스트: 마이카(카드할부)\n",
      "월 납입금: 1,318,203원\n"
     ]
    }
   ],
   "source": [
    "time.sleep(3) # 페이지가 로딩될때까지 기다리는 3가지 방법 \n",
    "#driver.implicitly_wait('3')\n",
    "WebDriverWait(driver, sec).untill(EC.presence_of_located((by.ID, ID)))\n",
    "\n",
    "print('모델:',model_name.text)\n",
    "print('베스트:',test1[1].text) # 재정의시 에러발생하지 않음.\n",
    "print('월 납입금:',test1[2].text)\n",
    "# print('베스트:',test[1].text)StaleElementReferenceException: https://pcmc.tistory.com/entry/190320-Bot-Detection-%ED%81%AC%EB%A1%A4%EB%9F%AC-%EC%B0%A8%EB%8B%A8-%ED%81%AC%EB%A1%A4%EB%9F%AC-%EC%9A%B0%ED%9A%8C-4-END 참조"
   ]
  }
 ],
 "metadata": {
  "kernelspec": {
   "display_name": "Python 3 (ipykernel)",
   "language": "python",
   "name": "python3"
  },
  "language_info": {
   "codemirror_mode": {
    "name": "ipython",
    "version": 3
   },
   "file_extension": ".py",
   "mimetype": "text/x-python",
   "name": "python",
   "nbconvert_exporter": "python",
   "pygments_lexer": "ipython3",
   "version": "3.9.6"
  }
 },
 "nbformat": 4,
 "nbformat_minor": 5
}
